{
  "nbformat": 4,
  "nbformat_minor": 0,
  "metadata": {
    "accelerator": "GPU",
    "colab": {
      "name": "7 - ALBERT gets Sentimental.ipynb",
      "provenance": [],
      "collapsed_sections": [
        "Hhd6YJJszPyB"
      ],
      "toc_visible": true
    },
    "kernelspec": {
      "display_name": "Python 3",
      "language": "python",
      "name": "python3"
    },
    "language_info": {
      "codemirror_mode": {
        "name": "ipython",
        "version": 3
      },
      "file_extension": ".py",
      "mimetype": "text/x-python",
      "name": "python",
      "nbconvert_exporter": "python",
      "pygments_lexer": "ipython3",
      "version": "3.7.5"
    }
  },
  "cells": [
    {
      "cell_type": "markdown",
      "metadata": {
        "id": "X9x31K4NzPwy"
      },
      "source": [
        "# 6 - Transformers for Sentiment Analysis\n",
        "\n",
        "In this notebook we will be using the transformer model, first introduced in [this](https://arxiv.org/abs/1706.03762) paper. Specifically, we will be using the BERT (Bidirectional Encoder Representations from Transformers) model from [this](https://arxiv.org/abs/1810.04805) paper. \n",
        "\n",
        "Transformer models are considerably larger than anything else covered in these tutorials. As such we are going to use the [transformers library](https://github.com/huggingface/transformers) to get pre-trained transformers and use them as our embedding layers. We will freeze (not train) the transformer and only train the remainder of the model which learns from the representations produced by the transformer. In this case we will be using a multi-layer bi-directional GRU, however any model can learn from these representations."
      ]
    },
    {
      "cell_type": "markdown",
      "metadata": {
        "id": "im4naEKAzPxE"
      },
      "source": [
        "## Preparing Data\n",
        "\n",
        "First, as always, let's set the random seeds for deterministic results."
      ]
    },
    {
      "cell_type": "code",
      "metadata": {
        "id": "Ypn8yKV_zPxL"
      },
      "source": [
        "import torch\n",
        "\n",
        "import random\n",
        "import numpy as np\n",
        "\n",
        "SEED = 1234\n",
        "\n",
        "random.seed(SEED)\n",
        "np.random.seed(SEED)\n",
        "torch.manual_seed(SEED)\n",
        "torch.backends.cudnn.deterministic = True"
      ],
      "execution_count": 39,
      "outputs": []
    },
    {
      "cell_type": "markdown",
      "metadata": {
        "id": "KzxOYQnBzPxN"
      },
      "source": [
        "The transformer has already been trained with a specific vocabulary, which means we need to train with the exact same vocabulary and also tokenize our data in the same way that the transformer did when it was initially trained.\n",
        "\n",
        "Luckily, the transformers library has tokenizers for each of the transformer models provided. In this case we are using the BERT model which ignores casing (i.e. will lower case every word). We get this by loading the pre-trained `bert-base-uncased` tokenizer."
      ]
    },
    {
      "cell_type": "code",
      "metadata": {
        "id": "YMqXBWQD5BTN"
      },
      "source": [
        "%%capture \r\n",
        "!pip install transformers"
      ],
      "execution_count": 40,
      "outputs": []
    },
    {
      "cell_type": "code",
      "metadata": {
        "id": "2expK73TzPxO"
      },
      "source": [
        "from transformers import BertTokenizer\n",
        "\n",
        "tokenizer = BertTokenizer.from_pretrained('distilbert-base-uncased') \n",
        "# distilbert-base-uncased \n",
        "# bert-base-uncased\n",
        "# albert-base-v1\n"
      ],
      "execution_count": 41,
      "outputs": []
    },
    {
      "cell_type": "markdown",
      "metadata": {
        "id": "azPP0HuyzPxT"
      },
      "source": [
        "The `tokenizer` has a `vocab` attribute which contains the actual vocabulary we will be using. We can check how many tokens are in it by checking its length."
      ]
    },
    {
      "cell_type": "code",
      "metadata": {
        "colab": {
          "base_uri": "https://localhost:8080/"
        },
        "id": "tVBltzQdzPxU",
        "outputId": "9b3c22a3-de56-46cd-846d-3dad984f3662"
      },
      "source": [
        "len(tokenizer.vocab)"
      ],
      "execution_count": 42,
      "outputs": [
        {
          "output_type": "execute_result",
          "data": {
            "text/plain": [
              "30522"
            ]
          },
          "metadata": {
            "tags": []
          },
          "execution_count": 42
        }
      ]
    },
    {
      "cell_type": "markdown",
      "metadata": {
        "id": "6UIx0mmAzPxV"
      },
      "source": [
        "Using the tokenizer is as simple as calling `tokenizer.tokenize` on a string. This will tokenize and lower case the data in a way that is consistent with the pre-trained transformer model."
      ]
    },
    {
      "cell_type": "code",
      "metadata": {
        "colab": {
          "base_uri": "https://localhost:8080/"
        },
        "id": "XFa29kDczPxW",
        "outputId": "91a4fe68-dec0-45a5-d0af-97a9bc351c7e"
      },
      "source": [
        "tokens = tokenizer.tokenize('Hello WORLD how ARE yoU?')\n",
        "\n",
        "print(tokens)"
      ],
      "execution_count": 43,
      "outputs": [
        {
          "output_type": "stream",
          "text": [
            "['hello', 'world', 'how', 'are', 'you', '?']\n"
          ],
          "name": "stdout"
        }
      ]
    },
    {
      "cell_type": "markdown",
      "metadata": {
        "id": "c6RNp3bvzPxX"
      },
      "source": [
        "We can numericalize tokens using our vocabulary using `tokenizer.convert_tokens_to_ids`."
      ]
    },
    {
      "cell_type": "code",
      "metadata": {
        "colab": {
          "base_uri": "https://localhost:8080/"
        },
        "id": "3OupGNVazPxZ",
        "outputId": "39e0374f-f79c-4c9c-b46b-884365231b8a"
      },
      "source": [
        "indexes = tokenizer.convert_tokens_to_ids(tokens)\n",
        "\n",
        "print(indexes)"
      ],
      "execution_count": 44,
      "outputs": [
        {
          "output_type": "stream",
          "text": [
            "[7592, 2088, 2129, 2024, 2017, 1029]\n"
          ],
          "name": "stdout"
        }
      ]
    },
    {
      "cell_type": "markdown",
      "metadata": {
        "id": "aonIaBkUzPxa"
      },
      "source": [
        "The transformer was also trained with special tokens to mark the beginning and end of the sentence, detailed [here](https://huggingface.co/transformers/model_doc/bert.html#transformers.BertModel). As well as a standard padding and unknown token. We can also get these from the tokenizer.\n",
        "\n",
        "**Note**: the tokenizer does have a beginning of sequence and end of sequence attributes (`bos_token` and `eos_token`) but these are not set and should not be used for this transformer."
      ]
    },
    {
      "cell_type": "code",
      "metadata": {
        "colab": {
          "base_uri": "https://localhost:8080/"
        },
        "id": "A7lmq6IqzPxb",
        "outputId": "d4eb05c9-7a69-40ff-b593-f00fc837d26a"
      },
      "source": [
        "init_token = tokenizer.cls_token\n",
        "eos_token = tokenizer.sep_token\n",
        "pad_token = tokenizer.pad_token\n",
        "unk_token = tokenizer.unk_token\n",
        "\n",
        "print(init_token, eos_token, pad_token, unk_token)"
      ],
      "execution_count": 45,
      "outputs": [
        {
          "output_type": "stream",
          "text": [
            "[CLS] [SEP] [PAD] [UNK]\n"
          ],
          "name": "stdout"
        }
      ]
    },
    {
      "cell_type": "markdown",
      "metadata": {
        "id": "DDlaXsOdzPxc"
      },
      "source": [
        "We can get the indexes of the special tokens by converting them using the vocabulary..."
      ]
    },
    {
      "cell_type": "code",
      "metadata": {
        "colab": {
          "base_uri": "https://localhost:8080/"
        },
        "id": "o6MZVxIfzPxc",
        "outputId": "38edc08c-4021-4934-f6ee-f461063193c2"
      },
      "source": [
        "init_token_idx = tokenizer.convert_tokens_to_ids(init_token)\n",
        "eos_token_idx = tokenizer.convert_tokens_to_ids(eos_token)\n",
        "pad_token_idx = tokenizer.convert_tokens_to_ids(pad_token)\n",
        "unk_token_idx = tokenizer.convert_tokens_to_ids(unk_token)\n",
        "\n",
        "print(init_token_idx, eos_token_idx, pad_token_idx, unk_token_idx)"
      ],
      "execution_count": 46,
      "outputs": [
        {
          "output_type": "stream",
          "text": [
            "101 102 0 100\n"
          ],
          "name": "stdout"
        }
      ]
    },
    {
      "cell_type": "markdown",
      "metadata": {
        "id": "OJHd_L6izPxd"
      },
      "source": [
        "...or by explicitly getting them from the tokenizer."
      ]
    },
    {
      "cell_type": "code",
      "metadata": {
        "colab": {
          "base_uri": "https://localhost:8080/"
        },
        "id": "d41lDU1izPxe",
        "outputId": "f222f052-0e88-4f4e-a075-bdf368a7d2d0"
      },
      "source": [
        "init_token_idx = tokenizer.cls_token_id\n",
        "eos_token_idx = tokenizer.sep_token_id\n",
        "pad_token_idx = tokenizer.pad_token_id\n",
        "unk_token_idx = tokenizer.unk_token_id\n",
        "\n",
        "print(init_token_idx, eos_token_idx, pad_token_idx, unk_token_idx)"
      ],
      "execution_count": 47,
      "outputs": [
        {
          "output_type": "stream",
          "text": [
            "101 102 0 100\n"
          ],
          "name": "stdout"
        }
      ]
    },
    {
      "cell_type": "markdown",
      "metadata": {
        "id": "D5HDnTbvzPxf"
      },
      "source": [
        "Another thing we need to handle is that the model was trained on sequences with a defined maximum length - it does not know how to handle sequences longer than it has been trained on. We can get the maximum length of these input sizes by checking the `max_model_input_sizes` for the version of the transformer we want to use. In this case, it is 512 tokens."
      ]
    },
    {
      "cell_type": "code",
      "metadata": {
        "colab": {
          "base_uri": "https://localhost:8080/"
        },
        "id": "wZXzSTghzPxg",
        "outputId": "e97eb0b8-13da-43b3-b5be-2c485320fd2a"
      },
      "source": [
        "max_input_length = tokenizer.max_model_input_sizes['bert-base-uncased']\n",
        "\n",
        "print(max_input_length)"
      ],
      "execution_count": 48,
      "outputs": [
        {
          "output_type": "stream",
          "text": [
            "512\n"
          ],
          "name": "stdout"
        }
      ]
    },
    {
      "cell_type": "markdown",
      "metadata": {
        "id": "xzIORxk2zPxg"
      },
      "source": [
        "Previously we have used the `spaCy` tokenizer to tokenize our examples. However we now need to define a function that we will pass to our `TEXT` field that will handle all the tokenization for us. It will also cut down the number of tokens to a maximum length. Note that our maximum length is 2 less than the actual maximum length. This is because we need to append two tokens to each sequence, one to the start and one to the end."
      ]
    },
    {
      "cell_type": "code",
      "metadata": {
        "id": "BCwsijITzPxh"
      },
      "source": [
        "def tokenize_and_cut(sentence):\n",
        "    tokens = tokenizer.tokenize(sentence) \n",
        "    tokens = tokens[:max_input_length-2]\n",
        "    return tokens"
      ],
      "execution_count": 49,
      "outputs": []
    },
    {
      "cell_type": "markdown",
      "metadata": {
        "id": "CsSbG6oyzPxi"
      },
      "source": [
        "Now we define our fields. The transformer expects the batch dimension to be first, so we set `batch_first = True`. As we already have the vocabulary for our text, provided by the transformer we set `use_vocab = False` to tell torchtext that we'll be handling the vocabulary side of things. We pass our `tokenize_and_cut` function as the tokenizer. The `preprocessing` argument is a function that takes in the example after it has been tokenized, this is where we will convert the tokens to their indexes. Finally, we define the special tokens - making note that we are defining them to be their index value and not their string value, i.e. `100` instead of `[UNK]` This is because the sequences will already be converted into indexes.\n",
        "\n",
        "We define the label field as before."
      ]
    },
    {
      "cell_type": "code",
      "metadata": {
        "id": "1SU1KO56zPxj"
      },
      "source": [
        "from torchtext import data\n",
        "\n",
        "TEXT = data.Field(batch_first = True,\n",
        "                  use_vocab = False,\n",
        "                  tokenize = tokenize_and_cut,\n",
        "                  preprocessing = tokenizer.convert_tokens_to_ids,\n",
        "                  init_token = init_token_idx,\n",
        "                  eos_token = eos_token_idx,\n",
        "                  pad_token = pad_token_idx,\n",
        "                  unk_token = unk_token_idx)\n",
        "\n",
        "LABEL = data.LabelField(dtype = torch.float)"
      ],
      "execution_count": 50,
      "outputs": []
    },
    {
      "cell_type": "markdown",
      "metadata": {
        "id": "YIhS3xS7zPxj"
      },
      "source": [
        "We load the data and create the validation splits as before."
      ]
    },
    {
      "cell_type": "code",
      "metadata": {
        "id": "xdoE11yTzPxl"
      },
      "source": [
        "from torchtext import datasets\n",
        "\n",
        "train_data, test_data = datasets.IMDB.splits(TEXT, LABEL)\n",
        "\n",
        "train_data, valid_data = train_data.split(random_state = random.seed(SEED))"
      ],
      "execution_count": 51,
      "outputs": []
    },
    {
      "cell_type": "code",
      "metadata": {
        "colab": {
          "base_uri": "https://localhost:8080/"
        },
        "id": "LTAgNYzSzPxm",
        "outputId": "622dbd25-211e-4e56-bcb7-93f71da788ca"
      },
      "source": [
        "print(f\"Number of training examples: {len(train_data)}\")\n",
        "print(f\"Number of validation examples: {len(valid_data)}\")\n",
        "print(f\"Number of testing examples: {len(test_data)}\")"
      ],
      "execution_count": 52,
      "outputs": [
        {
          "output_type": "stream",
          "text": [
            "Number of training examples: 17500\n",
            "Number of validation examples: 7500\n",
            "Number of testing examples: 25000\n"
          ],
          "name": "stdout"
        }
      ]
    },
    {
      "cell_type": "markdown",
      "metadata": {
        "id": "mH1svM2fzPxn"
      },
      "source": [
        "We can check an example and ensure that the text has already been numericalized."
      ]
    },
    {
      "cell_type": "code",
      "metadata": {
        "colab": {
          "base_uri": "https://localhost:8080/"
        },
        "id": "KUGEWzPKzPxn",
        "outputId": "036806eb-41d2-4417-f3e1-61969123c840"
      },
      "source": [
        "print(vars(train_data.examples[6]))"
      ],
      "execution_count": 53,
      "outputs": [
        {
          "output_type": "stream",
          "text": [
            "{'text': [1011, 1027, 3397, 27594, 2121, 2013, 2119, 2434, 1998, 3185, 4617, 1027, 1011, 1026, 7987, 1013, 1028, 1026, 7987, 1013, 1028, 1045, 2572, 1037, 4121, 5470, 1997, 10289, 8214, 2139, 3000, 3315, 1010, 1045, 2036, 3191, 2338, 2023, 2621, 1998, 1045, 3427, 3185, 2651, 1010, 1999, 1996, 2927, 1045, 2001, 17772, 2000, 3422, 1037, 2204, 2143, 2926, 2043, 1045, 2387, 1020, 1012, 1017, 10047, 18939, 2391, 1012, 2034, 5019, 2020, 2204, 2021, 1045, 2941, 4741, 2005, 1010, 12370, 3496, 3495, 2013, 2338, 1010, 2021, 2009, 2001, 3671, 2021, 2043, 9686, 28990, 2850, 8537, 5861, 3995, 7442, 1045, 2371, 2242, 2003, 3308, 1012, 1012, 2027, 2123, 1005, 1056, 2130, 3610, 1999, 2338, 1010, 2130, 1999, 3315, 1012, 1012, 1026, 7987, 1013, 1028, 1026, 7987, 1013, 1028, 1998, 2045, 2020, 4121, 6578, 2339, 9686, 28990, 2850, 2108, 13224, 2011, 23324, 1010, 1999, 1996, 2338, 2016, 12011, 2014, 13555, 2129, 2000, 6869, 3616, 1997, 5119, 2030, 4339, 2773, 1000, 6887, 8913, 8286, 1000, 1012, 1012, 3524, 2045, 2020, 1037, 6887, 8913, 8286, 4694, 1005, 1056, 2045, 1029, 1999, 2023, 3185, 2002, 2003, 2070, 5268, 18015, 2498, 2062, 1010, 1996, 17277, 2081, 17982, 5302, 3527, 1005, 1055, 2293, 2000, 2265, 2105, 1998, 2027, 2130, 13261, 10424, 14511, 2080, 1005, 1055, 2293, 1012, 1012, 2021, 10289, 8214, 2001, 10424, 14511, 2080, 1012, 2010, 4301, 2010, 11785, 2090, 2293, 1997, 2643, 1998, 2293, 1997, 2529, 1999, 3185, 2057, 2064, 2102, 2424, 2505, 2066, 2008, 2035, 2057, 2031, 2003, 1010, 2070, 12700, 2040, 2003, 2428, 2919, 1998, 8563, 2111, 3005, 17783, 2007, 2010, 4301, 1012, 1012, 1998, 2025, 18625, 6887, 8913, 8286, 1010, 2025, 18625, 2293, 1997, 10424, 14511, 2080, 1010, 2025, 18625, 15333, 4819, 1006, 2567, 1997, 10424, 14511, 2080, 1007, 2025, 18625, 2388, 1997, 9686, 28990, 2850, 1006, 2672, 2009, 2003, 7929, 1010, 1996, 9994, 2052, 2031, 24881, 2172, 1007, 2027, 2130, 2025, 3855, 1996, 2613, 2466, 1012, 1012, 1006, 2178, 8827, 1024, 10424, 14511, 2080, 2347, 1005, 1056, 1037, 16895, 14866, 2030, 2070, 8754, 2266, 2002, 2941, 1999, 3037, 2007, 2632, 5403, 8029, 2002, 5363, 2000, 2191, 2751, 1012, 1012, 2002, 2001, 5881, 1999, 2671, 1998, 4676, 1007, 1026, 7987, 1013, 1028, 1026, 7987, 1013, 1028, 2633, 2123, 1005, 1056, 3422, 2023, 3185, 1010, 2009, 2003, 2070, 2785, 1997, 5501, 3179, 2000, 2613, 17743, 1010, 1998, 2065, 2017, 2031, 3427, 2009, 2077, 3191, 1996, 2338, 1010, 2643, 2031, 8673, 2006, 2017, 1012, 1012, 2017, 2442, 3191, 2000, 2338, 3202, 1012, 1012, 1026, 7987, 1013, 1028, 1026, 7987, 1013, 1028, 2023, 3185, 2003, 4788, 2084, 15876, 12680, 5963, 1997, 10289, 8214, 2462, 1996, 6579, 3185, 1010, 5247, 2115, 2051, 2007, 3666, 10289, 8214, 2139, 3000, 3315, 1012, 1012, 2438, 2056, 1012, 1012], 'label': 'neg'}\n"
          ],
          "name": "stdout"
        }
      ]
    },
    {
      "cell_type": "markdown",
      "metadata": {
        "id": "PwGfdznGzPxo"
      },
      "source": [
        "We can use the `convert_ids_to_tokens` to transform these indexes back into readable tokens."
      ]
    },
    {
      "cell_type": "code",
      "metadata": {
        "colab": {
          "base_uri": "https://localhost:8080/"
        },
        "id": "tDs_r0zPzPxo",
        "outputId": "eada68f9-e448-4ec0-e62e-4f465e8ea53f"
      },
      "source": [
        "tokens = tokenizer.convert_ids_to_tokens(vars(train_data.examples[6])['text'])\n",
        "\n",
        "print(tokens)"
      ],
      "execution_count": 54,
      "outputs": [
        {
          "output_type": "stream",
          "text": [
            "['-', '=', 'contains', 'spoil', '##er', 'from', 'both', 'original', 'and', 'movie', 'versions', '=', '-', '<', 'br', '/', '>', '<', 'br', '/', '>', 'i', 'am', 'a', 'huge', 'fan', 'of', 'notre', 'dame', 'de', 'paris', 'musical', ',', 'i', 'also', 'read', 'book', 'this', 'summer', 'and', 'i', 'watched', 'movie', 'today', ',', 'in', 'the', 'beginning', 'i', 'was', 'hopeful', 'to', 'watch', 'a', 'good', 'film', 'especially', 'when', 'i', 'saw', '6', '.', '3', 'im', '##db', 'point', '.', 'first', 'scenes', 'were', 'good', 'but', 'i', 'actually', 'waited', 'for', ',', 'theaters', 'scene', 'directly', 'from', 'book', ',', 'but', 'it', 'was', 'normal', 'but', 'when', 'es', '##meral', '##da', 'kisses', 'grin', '##go', '##ire', 'i', 'felt', 'something', 'is', 'wrong', '.', '.', 'they', 'don', \"'\", 't', 'even', 'kiss', 'in', 'book', ',', 'even', 'in', 'musical', '.', '.', '<', 'br', '/', '>', '<', 'br', '/', '>', 'and', 'there', 'were', 'huge', 'gap', 'why', 'es', '##meral', '##da', 'being', 'judged', 'by', 'sorcerer', ',', 'in', 'the', 'book', 'she', 'teaches', 'her', 'goat', 'how', 'to', 'respond', 'numbers', 'of', 'clock', 'or', 'write', 'word', '\"', 'ph', '##oe', '##bus', '\"', '.', '.', 'wait', 'there', 'were', 'a', 'ph', '##oe', '##bus', 'weren', \"'\", 't', 'there', '?', 'in', 'this', 'movie', 'he', 'is', 'some', 'soldier', 'junk', 'nothing', 'more', ',', 'the', 'creators', 'made', 'quasi', '##mo', '##do', \"'\", 's', 'love', 'to', 'show', 'around', 'and', 'they', 'even', 'canceled', 'fr', '##oll', '##o', \"'\", 's', 'love', '.', '.', 'but', 'notre', 'dame', 'was', 'fr', '##oll', '##o', '.', 'his', 'thoughts', 'his', 'struggles', 'between', 'love', 'of', 'god', 'and', 'love', 'of', 'human', 'in', 'movie', 'we', 'can', '##t', 'find', 'anything', 'like', 'that', 'all', 'we', 'have', 'is', ',', 'some', 'villain', 'who', 'is', 'really', 'bad', 'and', 'kills', 'people', 'whose', 'clashes', 'with', 'his', 'thoughts', '.', '.', 'and', 'not', 'mentioning', 'ph', '##oe', '##bus', ',', 'not', 'mentioning', 'love', 'of', 'fr', '##oll', '##o', ',', 'not', 'mentioning', 'je', '##han', '(', 'brother', 'of', 'fr', '##oll', '##o', ')', 'not', 'mentioning', 'mother', 'of', 'es', '##meral', '##da', '(', 'maybe', 'it', 'is', 'ok', ',', 'the', 'storyline', 'would', 'have', 'chopped', 'much', ')', 'they', 'even', 'not', 'mentioned', 'the', 'real', 'story', '.', '.', '(', 'another', 'ps', ':', 'fr', '##oll', '##o', 'wasn', \"'\", 't', 'a', 'opus', 'dei', 'or', 'some', 'cult', 'member', 'he', 'actually', 'in', 'interest', 'with', 'al', '##che', '##my', 'he', 'tries', 'to', 'make', 'gold', '.', '.', 'he', 'was', 'stuck', 'in', 'science', 'and', 'religion', ')', '<', 'br', '/', '>', '<', 'br', '/', '>', 'finally', 'don', \"'\", 't', 'watch', 'this', 'movie', ',', 'it', 'is', 'some', 'kind', 'of', 'directors', 'edition', 'to', 'real', 'masterpiece', ',', 'and', 'if', 'you', 'have', 'watched', 'it', 'before', 'read', 'the', 'book', ',', 'god', 'have', 'mercy', 'on', 'you', '.', '.', 'you', 'must', 'read', 'to', 'book', 'immediately', '.', '.', '<', 'br', '/', '>', '<', 'br', '/', '>', 'this', 'movie', 'is', 'worse', 'than', 'hu', '##nch', '##back', 'of', 'notre', 'dame', 'ii', 'the', 'animated', 'movie', ',', 'spend', 'your', 'time', 'with', 'watching', 'notre', 'dame', 'de', 'paris', 'musical', '.', '.', 'enough', 'said', '.', '.']\n"
          ],
          "name": "stdout"
        }
      ]
    },
    {
      "cell_type": "markdown",
      "metadata": {
        "id": "YzbNYJMnzPxp"
      },
      "source": [
        "Although we've handled the vocabulary for the text, we still need to build the vocabulary for the labels."
      ]
    },
    {
      "cell_type": "code",
      "metadata": {
        "id": "NTgCdPrFzPxp"
      },
      "source": [
        "LABEL.build_vocab(train_data)"
      ],
      "execution_count": 55,
      "outputs": []
    },
    {
      "cell_type": "code",
      "metadata": {
        "colab": {
          "base_uri": "https://localhost:8080/"
        },
        "id": "QeJABTgxzPxq",
        "outputId": "26e2a018-3d3c-4725-ac25-c774099fbbfd"
      },
      "source": [
        "print(LABEL.vocab.stoi)"
      ],
      "execution_count": 56,
      "outputs": [
        {
          "output_type": "stream",
          "text": [
            "defaultdict(<function _default_unk_index at 0x7fccc175e598>, {'neg': 0, 'pos': 1})\n"
          ],
          "name": "stdout"
        }
      ]
    },
    {
      "cell_type": "markdown",
      "metadata": {
        "id": "oDF_BtR1zPxt"
      },
      "source": [
        "As before, we create the iterators. Ideally we want to use the largest batch size that we can as I've found this gives the best results for transformers."
      ]
    },
    {
      "cell_type": "code",
      "metadata": {
        "id": "LLl5ApD6zPxt"
      },
      "source": [
        "BATCH_SIZE = 128\n",
        "\n",
        "device = torch.device('cuda' if torch.cuda.is_available() else 'cpu')\n",
        "\n",
        "train_iterator, valid_iterator, test_iterator = data.BucketIterator.splits(\n",
        "    (train_data, valid_data, test_data), \n",
        "    batch_size = BATCH_SIZE, \n",
        "    device = device)"
      ],
      "execution_count": 57,
      "outputs": []
    },
    {
      "cell_type": "markdown",
      "metadata": {
        "id": "22kUehlVzPxu"
      },
      "source": [
        "## Build the Model\n",
        "\n",
        "Next, we'll load the pre-trained model, making sure to load the same model as we did for the tokenizer."
      ]
    },
    {
      "cell_type": "code",
      "metadata": {
        "id": "I--9VUhHzPxu"
      },
      "source": [
        "from transformers import BertTokenizer, BertModel\n",
        "\n",
        "bert = BertModel.from_pretrained('bert-base-uncased') # Changed bert-base-uncased to albert-base-v2"
      ],
      "execution_count": 58,
      "outputs": []
    },
    {
      "cell_type": "markdown",
      "metadata": {
        "id": "ciCxWqQZzPxv"
      },
      "source": [
        "Next, we'll define our actual model. \n",
        "\n",
        "Instead of using an embedding layer to get embeddings for our text, we'll be using the pre-trained transformer model. These embeddings will then be fed into a GRU to produce a prediction for the sentiment of the input sentence. We get the embedding dimension size (called the `hidden_size`) from the transformer via its config attribute. The rest of the initialization is standard.\n",
        "\n",
        "Within the forward pass, we wrap the transformer in a `no_grad` to ensure no gradients are calculated over this part of the model. The transformer actually returns the embeddings for the whole sequence as well as a *pooled* output. The [documentation](https://huggingface.co/transformers/model_doc/bert.html#transformers.BertModel) states that the pooled output is \"usually not a good summary of the semantic content of the input, you’re often better with averaging or pooling the sequence of hidden-states for the whole input sequence\", hence we will not be using it. The rest of the forward pass is the standard implementation of a recurrent model, where we take the hidden state over the final time-step, and pass it through a linear layer to get our predictions."
      ]
    },
    {
      "cell_type": "code",
      "metadata": {
        "colab": {
          "base_uri": "https://localhost:8080/"
        },
        "id": "VowwxyFX-FDf",
        "outputId": "9b387646-9bae-4c10-af41-a326561edf01"
      },
      "source": [
        "print(bert.config.to_dict()['hidden_size']) # original 768"
      ],
      "execution_count": 59,
      "outputs": [
        {
          "output_type": "stream",
          "text": [
            "768\n"
          ],
          "name": "stdout"
        }
      ]
    },
    {
      "cell_type": "code",
      "metadata": {
        "id": "Vg_AXfwDzPxy"
      },
      "source": [
        "import torch.nn as nn\n",
        "\n",
        "class BERTGRUSentiment(nn.Module):\n",
        "    def __init__(self,\n",
        "                 bert,\n",
        "                 hidden_dim,\n",
        "                 output_dim,\n",
        "                 n_layers,\n",
        "                 bidirectional,\n",
        "                 dropout):\n",
        "        \n",
        "        super().__init__()\n",
        "        \n",
        "        self.bert = bert\n",
        "        \n",
        "        embedding_dim = bert.config.to_dict()['hidden_size']\n",
        "        \n",
        "        self.rnn = nn.GRU(embedding_dim,\n",
        "                          hidden_dim,\n",
        "                          num_layers = n_layers,\n",
        "                          bidirectional = bidirectional,\n",
        "                          batch_first = True,\n",
        "                          dropout = 0 if n_layers < 2 else dropout)\n",
        "        \n",
        "        self.out = nn.Linear(hidden_dim * 2 if bidirectional else hidden_dim, output_dim)\n",
        "        \n",
        "        self.dropout = nn.Dropout(dropout)\n",
        "        \n",
        "    def forward(self, text):\n",
        "        \n",
        "        #text = [batch size, sent len]\n",
        "                \n",
        "        with torch.no_grad():\n",
        "            embedded = self.bert(text)[0]\n",
        "                \n",
        "        #embedded = [batch size, sent len, emb dim]\n",
        "        \n",
        "        _, hidden = self.rnn(embedded)\n",
        "        \n",
        "        #hidden = [n layers * n directions, batch size, emb dim]\n",
        "        \n",
        "        if self.rnn.bidirectional:\n",
        "            hidden = self.dropout(torch.cat((hidden[-2,:,:], hidden[-1,:,:]), dim = 1))\n",
        "        else:\n",
        "            hidden = self.dropout(hidden[-1,:,:])\n",
        "                \n",
        "        #hidden = [batch size, hid dim]\n",
        "        \n",
        "        output = self.out(hidden)\n",
        "        \n",
        "        #output = [batch size, out dim]\n",
        "        \n",
        "        return output"
      ],
      "execution_count": 60,
      "outputs": []
    },
    {
      "cell_type": "markdown",
      "metadata": {
        "id": "80Xx2jazzPxz"
      },
      "source": [
        "Next, we create an instance of our model using standard hyperparameters."
      ]
    },
    {
      "cell_type": "code",
      "metadata": {
        "id": "RAtVljp-zPxz"
      },
      "source": [
        "HIDDEN_DIM = 256\n",
        "OUTPUT_DIM = 1\n",
        "N_LAYERS = 2 \n",
        "BIDIRECTIONAL = True\n",
        "DROPOUT = 0.05 # 0.25\n",
        "\n",
        "model = BERTGRUSentiment(bert,\n",
        "                         HIDDEN_DIM,\n",
        "                         OUTPUT_DIM,\n",
        "                         N_LAYERS,\n",
        "                         BIDIRECTIONAL,\n",
        "                         DROPOUT)"
      ],
      "execution_count": 61,
      "outputs": []
    },
    {
      "cell_type": "markdown",
      "metadata": {
        "id": "3t2O2kILzPx0"
      },
      "source": [
        "We can check how many parameters the model has. Our standard models have under 5M, but this one has 112M! Luckily, 110M of these parameters are from the transformer and we will not be training those."
      ]
    },
    {
      "cell_type": "code",
      "metadata": {
        "colab": {
          "base_uri": "https://localhost:8080/"
        },
        "id": "quqmkosCzPx0",
        "outputId": "db7de5f4-aa66-4b4c-ea75-fbece0ce86ae"
      },
      "source": [
        "def count_parameters(model):\n",
        "    return sum(p.numel() for p in model.parameters() if p.requires_grad)\n",
        "\n",
        "print(f'The model has {count_parameters(model):,} trainable parameters')"
      ],
      "execution_count": 62,
      "outputs": [
        {
          "output_type": "stream",
          "text": [
            "The model has 112,241,409 trainable parameters\n"
          ],
          "name": "stdout"
        }
      ]
    },
    {
      "cell_type": "markdown",
      "metadata": {
        "id": "PGvcu4sdzPx1"
      },
      "source": [
        "In order to freeze paramers (not train them) we need to set their `requires_grad` attribute to `False`. To do this, we simply loop through all of the `named_parameters` in our model and if they're a part of the `bert` transformer model, we set `requires_grad = False`. "
      ]
    },
    {
      "cell_type": "code",
      "metadata": {
        "id": "KpdHV6jOzPx2"
      },
      "source": [
        "for name, param in model.named_parameters():        \n",
        "    if name.startswith('bert'):\n",
        "        param.requires_grad = False"
      ],
      "execution_count": 63,
      "outputs": []
    },
    {
      "cell_type": "markdown",
      "metadata": {
        "id": "mnO4FCQDzPx2"
      },
      "source": [
        "We can now see that our model has under 3M trainable parameters, making it almost comparable to the `FastText` model. However, the text still has to propagate through the transformer which causes training to take considerably longer."
      ]
    },
    {
      "cell_type": "code",
      "metadata": {
        "colab": {
          "base_uri": "https://localhost:8080/"
        },
        "id": "cyCZaXbNzPx3",
        "outputId": "3999f7b2-3303-4277-f701-0a1a50accfa8"
      },
      "source": [
        "def count_parameters(model):\n",
        "    return sum(p.numel() for p in model.parameters() if p.requires_grad)\n",
        "\n",
        "print(f'The model has {count_parameters(model):,} trainable parameters')"
      ],
      "execution_count": 64,
      "outputs": [
        {
          "output_type": "stream",
          "text": [
            "The model has 2,759,169 trainable parameters\n"
          ],
          "name": "stdout"
        }
      ]
    },
    {
      "cell_type": "markdown",
      "metadata": {
        "id": "U22N8x8GzPx3"
      },
      "source": [
        "We can double check the names of the trainable parameters, ensuring they make sense. As we can see, they are all the parameters of the GRU (`rnn`) and the linear layer (`out`)."
      ]
    },
    {
      "cell_type": "code",
      "metadata": {
        "colab": {
          "base_uri": "https://localhost:8080/"
        },
        "id": "CbCn0LCrzPx4",
        "outputId": "585a0264-26a3-40a1-b425-36d5e1af125f"
      },
      "source": [
        "for name, param in model.named_parameters():                \n",
        "    if param.requires_grad:\n",
        "        print(name)"
      ],
      "execution_count": 65,
      "outputs": [
        {
          "output_type": "stream",
          "text": [
            "rnn.weight_ih_l0\n",
            "rnn.weight_hh_l0\n",
            "rnn.bias_ih_l0\n",
            "rnn.bias_hh_l0\n",
            "rnn.weight_ih_l0_reverse\n",
            "rnn.weight_hh_l0_reverse\n",
            "rnn.bias_ih_l0_reverse\n",
            "rnn.bias_hh_l0_reverse\n",
            "rnn.weight_ih_l1\n",
            "rnn.weight_hh_l1\n",
            "rnn.bias_ih_l1\n",
            "rnn.bias_hh_l1\n",
            "rnn.weight_ih_l1_reverse\n",
            "rnn.weight_hh_l1_reverse\n",
            "rnn.bias_ih_l1_reverse\n",
            "rnn.bias_hh_l1_reverse\n",
            "out.weight\n",
            "out.bias\n"
          ],
          "name": "stdout"
        }
      ]
    },
    {
      "cell_type": "markdown",
      "metadata": {
        "id": "3iN6ulhdzPx5"
      },
      "source": [
        "## Train the Model\n",
        "\n",
        "As is standard, we define our optimizer and criterion (loss function)."
      ]
    },
    {
      "cell_type": "code",
      "metadata": {
        "id": "t-7k5jqhzPx5"
      },
      "source": [
        "import torch.optim as optim\n",
        "\n",
        "optimizer = optim.Adam(model.parameters())"
      ],
      "execution_count": 66,
      "outputs": []
    },
    {
      "cell_type": "code",
      "metadata": {
        "id": "iVUNQ3P8zPx6"
      },
      "source": [
        "criterion = nn.BCEWithLogitsLoss()"
      ],
      "execution_count": 67,
      "outputs": []
    },
    {
      "cell_type": "markdown",
      "metadata": {
        "id": "NyFfFrHLzPx6"
      },
      "source": [
        "Place the model and criterion onto the GPU (if available)"
      ]
    },
    {
      "cell_type": "code",
      "metadata": {
        "id": "0VXzd7OvzPx7"
      },
      "source": [
        "model = model.to(device)\n",
        "criterion = criterion.to(device)"
      ],
      "execution_count": 68,
      "outputs": []
    },
    {
      "cell_type": "markdown",
      "metadata": {
        "id": "MHln3X5czPx7"
      },
      "source": [
        "Next, we'll define functions for: calculating accuracy, performing a training epoch, performing an evaluation epoch and calculating how long a training/evaluation epoch takes."
      ]
    },
    {
      "cell_type": "code",
      "metadata": {
        "id": "pepmY5QSzPx8"
      },
      "source": [
        "def binary_accuracy(preds, y):\n",
        "    \"\"\"\n",
        "    Returns accuracy per batch, i.e. if you get 8/10 right, this returns 0.8, NOT 8\n",
        "    \"\"\"\n",
        "\n",
        "    #round predictions to the closest integer\n",
        "    rounded_preds = torch.round(torch.sigmoid(preds))\n",
        "    correct = (rounded_preds == y).float() #convert into float for division \n",
        "    acc = correct.sum() / len(correct)\n",
        "    return acc"
      ],
      "execution_count": 69,
      "outputs": []
    },
    {
      "cell_type": "code",
      "metadata": {
        "id": "3bvWO_-czPx8"
      },
      "source": [
        "def train(model, iterator, optimizer, criterion):\n",
        "    \n",
        "    epoch_loss = 0\n",
        "    epoch_acc = 0\n",
        "    \n",
        "    model.train()\n",
        "    \n",
        "    for batch in iterator:\n",
        "        \n",
        "        optimizer.zero_grad()\n",
        "        \n",
        "        predictions = model(batch.text).squeeze(1)\n",
        "        \n",
        "        loss = criterion(predictions, batch.label)\n",
        "        \n",
        "        acc = binary_accuracy(predictions, batch.label)\n",
        "        \n",
        "        loss.backward()\n",
        "        \n",
        "        optimizer.step()\n",
        "        \n",
        "        epoch_loss += loss.item()\n",
        "        epoch_acc += acc.item()\n",
        "        \n",
        "    return epoch_loss / len(iterator), epoch_acc / len(iterator)"
      ],
      "execution_count": 70,
      "outputs": []
    },
    {
      "cell_type": "code",
      "metadata": {
        "id": "jev_xIY5zPx9"
      },
      "source": [
        "def evaluate(model, iterator, criterion):\n",
        "    \n",
        "    epoch_loss = 0\n",
        "    epoch_acc = 0\n",
        "    \n",
        "    model.eval()\n",
        "    \n",
        "    with torch.no_grad():\n",
        "    \n",
        "        for batch in iterator:\n",
        "\n",
        "            predictions = model(batch.text).squeeze(1)\n",
        "            \n",
        "            loss = criterion(predictions, batch.label)\n",
        "            \n",
        "            acc = binary_accuracy(predictions, batch.label)\n",
        "\n",
        "            epoch_loss += loss.item()\n",
        "            epoch_acc += acc.item()\n",
        "        \n",
        "    return epoch_loss / len(iterator), epoch_acc / len(iterator)"
      ],
      "execution_count": 71,
      "outputs": []
    },
    {
      "cell_type": "code",
      "metadata": {
        "id": "e8F0454szPx9"
      },
      "source": [
        "import time\n",
        "\n",
        "def epoch_time(start_time, end_time):\n",
        "    elapsed_time = end_time - start_time\n",
        "    elapsed_mins = int(elapsed_time / 60)\n",
        "    elapsed_secs = int(elapsed_time - (elapsed_mins * 60))\n",
        "    return elapsed_mins, elapsed_secs"
      ],
      "execution_count": 72,
      "outputs": []
    },
    {
      "cell_type": "markdown",
      "metadata": {
        "id": "Ag-PiPSKzPx-"
      },
      "source": [
        "Finally, we'll train our model. This takes considerably longer than any of the previous models due to the size of the transformer. Even though we are not training any of the transformer's parameters we still need to pass the data through the model which takes a considerable amount of time on a standard GPU."
      ]
    },
    {
      "cell_type": "code",
      "metadata": {
        "id": "B1dsou8xzPx-"
      },
      "source": [
        "N_EPOCHS = 5\n",
        "\n",
        "best_valid_loss = float('inf')\n",
        "\n",
        "try: model.load_state_dict(torch.load('tut7-model.pt')) # Change. Checking is not good enough\n",
        "except:  pass\n",
        "\n",
        "for epoch in range(N_EPOCHS):\n",
        "    \n",
        "    start_time = time.time()\n",
        "    \n",
        "    train_loss, train_acc = train(model, train_iterator, optimizer, criterion)\n",
        "    valid_loss, valid_acc = evaluate(model, valid_iterator, criterion)\n",
        "        \n",
        "    end_time = time.time()\n",
        "        \n",
        "    epoch_mins, epoch_secs = epoch_time(start_time, end_time)\n",
        "        \n",
        "    if valid_loss < best_valid_loss:\n",
        "        best_valid_loss = valid_loss\n",
        "        torch.save(model.state_dict(), 'tut7-model.pt')\n",
        "    \n",
        "    print(f'Epoch: {epoch+1:02} | Epoch Time: {epoch_mins}m {epoch_secs}s')\n",
        "    print(f'\\tTrain Loss: {train_loss:.3f} | Train Acc: {train_acc*100:.2f}%')\n",
        "    print(f'\\t Val. Loss: {valid_loss:.3f} |  Val. Acc: {valid_acc*100:.2f}%')"
      ],
      "execution_count": 73,
      "outputs": []
    },
    {
      "cell_type": "markdown",
      "metadata": {
        "id": "IpM2iJyur7Dp"
      },
      "source": [
        "```\r\n",
        "Epoch: 01 | Epoch Time: 18m 4s\r\n",
        "\tTrain Loss: 0.512 | Train Acc: 73.45%\r\n",
        "\t Val. Loss: 0.287 |  Val. Acc: 88.48%\r\n",
        "Epoch: 02 | Epoch Time: 18m 21s\r\n",
        "\tTrain Loss: 0.279 | Train Acc: 88.61%\r\n",
        "\t Val. Loss: 0.221 |  Val. Acc: 91.25%\r\n",
        "Epoch: 03 | Epoch Time: 18m 20s\r\n",
        "\tTrain Loss: 0.233 | Train Acc: 90.67%\r\n",
        "\t Val. Loss: 0.222 |  Val. Acc: 91.07%\r\n",
        "Epoch: 04 | Epoch Time: 18m 18s\r\n",
        "\tTrain Loss: 0.202 | Train Acc: 92.05%\r\n",
        "\t Val. Loss: 0.216 |  Val. Acc: 92.07%\r\n",
        "Epoch: 05 | Epoch Time: 18m 18s\r\n",
        "\tTrain Loss: 0.180 | Train Acc: 93.01%\r\n",
        "\t Val. Loss: 0.224 |  Val. Acc: 91.47%\r\n",
        "```"
      ]
    },
    {
      "cell_type": "markdown",
      "metadata": {
        "id": "FEY59JPTzPyA"
      },
      "source": [
        "We'll load up the parameters that gave us the best validation loss and try these on the test set - which gives us our best results so far!"
      ]
    },
    {
      "cell_type": "code",
      "metadata": {
        "id": "kmI8sAzvzPyB",
        "outputId": "327ff12a-63b2-4e3f-a2a2-27557f406c24",
        "colab": {
          "base_uri": "https://localhost:8080/"
        }
      },
      "source": [
        "model.load_state_dict(torch.load('tut7-model.pt'))\n",
        "\n",
        "test_loss, test_acc = evaluate(model, test_iterator, criterion)\n",
        "\n",
        "print(f'Test Loss: {test_loss:.3f} | Test Acc: {test_acc*100:.2f}%')"
      ],
      "execution_count": 74,
      "outputs": [
        {
          "output_type": "stream",
          "text": [
            "Test Loss: 0.209 | Test Acc: 91.67%\n"
          ],
          "name": "stdout"
        }
      ]
    },
    {
      "cell_type": "markdown",
      "metadata": {
        "id": "Hhd6YJJszPyB"
      },
      "source": [
        "## Inference\n",
        "\n",
        "We'll then use the model to test the sentiment of some sequences. We tokenize the input sequence, trim it down to the maximum length, add the special tokens to either side, convert it to a tensor, add a fake batch dimension and then pass it through our model."
      ]
    },
    {
      "cell_type": "code",
      "metadata": {
        "id": "84cdOQblzPyC"
      },
      "source": [
        "def predict_sentiment(model, tokenizer, sentence):\n",
        "    model.eval()\n",
        "    tokens = tokenizer.tokenize(sentence)\n",
        "    tokens = tokens[:max_input_length-2]\n",
        "    indexed = [init_token_idx] + tokenizer.convert_tokens_to_ids(tokens) + [eos_token_idx]\n",
        "    tensor = torch.LongTensor(indexed).to(device)\n",
        "    tensor = tensor.unsqueeze(0)\n",
        "    prediction = torch.sigmoid(model(tensor))\n",
        "    return prediction.item()"
      ],
      "execution_count": 75,
      "outputs": []
    },
    {
      "cell_type": "code",
      "metadata": {
        "id": "qMK19OQZzPyD",
        "outputId": "0a33cba9-f3ae-4a58-dfd9-052746306fab",
        "colab": {
          "base_uri": "https://localhost:8080/"
        }
      },
      "source": [
        "predict_sentiment(model, tokenizer, \"This film is terrible\")"
      ],
      "execution_count": 76,
      "outputs": [
        {
          "output_type": "execute_result",
          "data": {
            "text/plain": [
              "0.04073493927717209"
            ]
          },
          "metadata": {
            "tags": []
          },
          "execution_count": 76
        }
      ]
    },
    {
      "cell_type": "code",
      "metadata": {
        "id": "aZ3dPI1OzPyF",
        "outputId": "1c06e5ab-b2c4-4edf-f9a9-76c3bafb5341",
        "colab": {
          "base_uri": "https://localhost:8080/"
        }
      },
      "source": [
        "predict_sentiment(model, tokenizer, \"This film is great\")"
      ],
      "execution_count": 77,
      "outputs": [
        {
          "output_type": "execute_result",
          "data": {
            "text/plain": [
              "0.9526733756065369"
            ]
          },
          "metadata": {
            "tags": []
          },
          "execution_count": 77
        }
      ]
    },
    {
      "cell_type": "code",
      "metadata": {
        "id": "SaRQHqEIr4x5"
      },
      "source": [
        ""
      ],
      "execution_count": 77,
      "outputs": []
    }
  ]
}